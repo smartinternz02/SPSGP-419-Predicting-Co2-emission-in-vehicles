{
 "cells": [
  {
   "cell_type": "markdown",
   "metadata": {},
   "source": [
    "## Importing Libraries"
   ]
  },
  {
   "cell_type": "code",
   "execution_count": 1,
   "metadata": {},
   "outputs": [
    {
     "ename": "ModuleNotFoundError",
     "evalue": "No module named 'missingno'",
     "output_type": "error",
     "traceback": [
      "\u001b[1;31m---------------------------------------------------------------------------\u001b[0m",
      "\u001b[1;31mModuleNotFoundError\u001b[0m                       Traceback (most recent call last)",
      "\u001b[1;32m<ipython-input-1-010155065cdd>\u001b[0m in \u001b[0;36m<module>\u001b[1;34m\u001b[0m\n\u001b[0;32m      4\u001b[0m \u001b[1;32mimport\u001b[0m \u001b[0mseaborn\u001b[0m \u001b[1;32mas\u001b[0m \u001b[0msns\u001b[0m \u001b[1;31m#used for data Visualization\u001b[0m\u001b[1;33m\u001b[0m\u001b[1;33m\u001b[0m\u001b[0m\n\u001b[0;32m      5\u001b[0m \u001b[1;32mimport\u001b[0m \u001b[0mmatplotlib\u001b[0m\u001b[1;33m.\u001b[0m\u001b[0mpyplot\u001b[0m \u001b[1;32mas\u001b[0m \u001b[0mplt\u001b[0m\u001b[1;33m\u001b[0m\u001b[1;33m\u001b[0m\u001b[0m\n\u001b[1;32m----> 6\u001b[1;33m \u001b[1;32mimport\u001b[0m \u001b[0mmissingno\u001b[0m \u001b[1;32mas\u001b[0m \u001b[0mmsno\u001b[0m \u001b[1;31m#finding missing values\u001b[0m\u001b[1;33m\u001b[0m\u001b[1;33m\u001b[0m\u001b[0m\n\u001b[0m\u001b[0;32m      7\u001b[0m \u001b[1;32mfrom\u001b[0m \u001b[0msklearn\u001b[0m\u001b[1;33m.\u001b[0m\u001b[0mmodel_selection\u001b[0m \u001b[1;32mimport\u001b[0m \u001b[0mtrain_test_split\u001b[0m \u001b[1;31m#splits data in random train and test array\u001b[0m\u001b[1;33m\u001b[0m\u001b[1;33m\u001b[0m\u001b[0m\n\u001b[0;32m      8\u001b[0m \u001b[1;32mfrom\u001b[0m \u001b[0msklearn\u001b[0m\u001b[1;33m.\u001b[0m\u001b[0mmetrics\u001b[0m \u001b[1;32mimport\u001b[0m \u001b[0maccuracy_score\u001b[0m\u001b[1;33m,\u001b[0m\u001b[0mmean_squared_error\u001b[0m\u001b[1;33m,\u001b[0m\u001b[0mmean_absolute_error\u001b[0m\u001b[1;31m#model performance\u001b[0m\u001b[1;33m\u001b[0m\u001b[1;33m\u001b[0m\u001b[0m\n",
      "\u001b[1;31mModuleNotFoundError\u001b[0m: No module named 'missingno'"
     ]
    }
   ],
   "source": [
    "import pandas as pd #used for data manipulation\n",
    "import numpy as np #used for numerical analysis\n",
    "from collections import Counter as c # return counts\n",
    "import seaborn as sns #used for data Visualization\n",
    "import matplotlib.pyplot as plt\n",
    "import missingno as msno #finding missing values\n",
    "from sklearn.model_selection import train_test_split #splits data in random train and test array\n",
    "from sklearn.metrics import accuracy_score,mean_squared_error,mean_absolute_error#model performance\n",
    "import pickle #Python object hierarchy is converted into a byte stream,\n",
    "from sklearn.linear_model import LinearRegression #Regresssion ML algorithm"
   ]
  },
  {
   "cell_type": "markdown",
   "metadata": {},
   "source": [
    "## Uploading Dataset"
   ]
  },
  {
   "cell_type": "code",
   "execution_count": null,
   "metadata": {},
   "outputs": [],
   "source": [
    "data=pd.read_csv(\"Sample.csv\") #loading the csv data"
   ]
  },
  {
   "cell_type": "code",
   "execution_count": null,
   "metadata": {},
   "outputs": [],
   "source": [
    "data.head() #return you the first 5 rows values"
   ]
  },
  {
   "cell_type": "code",
   "execution_count": null,
   "metadata": {},
   "outputs": [],
   "source": [
    "data.tail() #return you the last 5 rows values"
   ]
  },
  {
   "cell_type": "code",
   "execution_count": null,
   "metadata": {},
   "outputs": [],
   "source": [
    "data.head(8) #return you the top 8 rows values"
   ]
  },
  {
   "cell_type": "code",
   "execution_count": null,
   "metadata": {},
   "outputs": [],
   "source": [
    "data.drop('MODEL',axis=1,inplace=True)  # drop is used for dropping the column"
   ]
  },
  {
   "cell_type": "markdown",
   "metadata": {},
   "source": [
    "### Renaming column names"
   ]
  },
  {
   "cell_type": "code",
   "execution_count": null,
   "metadata": {},
   "outputs": [],
   "source": [
    "data.columns #return all the column names"
   ]
  },
  {
   "cell_type": "code",
   "execution_count": null,
   "metadata": {},
   "outputs": [],
   "source": [
    "data.columns=['Make','MODEL.1', 'Vehicle_Class', 'Engine_Size', 'Cylinders',\n",
    "       'Transmission', 'Fuel_Type', 'Fuel_Consumption_City',\n",
    "       'Fuel_Consumption_Hwy', 'Fuel_Consumption_Comb(L/100 km)',\n",
    "       'Fuel_Consumption_Comb(mpg)','CO2_Emissions'] # manually giving the name  of the columns\n",
    "data.columns"
   ]
  },
  {
   "cell_type": "markdown",
   "metadata": {},
   "source": [
    "### Info of the data"
   ]
  },
  {
   "cell_type": "code",
   "execution_count": null,
   "metadata": {},
   "outputs": [],
   "source": [
    "data.info() #info will give you a summary of dataset"
   ]
  },
  {
   "cell_type": "code",
   "execution_count": null,
   "metadata": {},
   "outputs": [],
   "source": [
    "data.describe()  # returns important values for continous column data"
   ]
  },
  {
   "cell_type": "markdown",
   "metadata": {},
   "source": [
    "## Seeing Target, Nominal and Numerical Columns Count"
   ]
  },
  {
   "cell_type": "code",
   "execution_count": null,
   "metadata": {},
   "outputs": [],
   "source": [
    "np.unique(data.dtypes,return_counts=True)"
   ]
  },
  {
   "cell_type": "markdown",
   "metadata": {},
   "source": [
    "## Categoical Columns"
   ]
  },
  {
   "cell_type": "code",
   "execution_count": null,
   "metadata": {},
   "outputs": [],
   "source": [
    "cat=data.dtypes[data.dtypes=='O'].index.values\n",
    "cat"
   ]
  },
  {
   "cell_type": "markdown",
   "metadata": {},
   "source": [
    "### Analysing the categorical columns"
   ]
  },
  {
   "cell_type": "code",
   "execution_count": null,
   "metadata": {},
   "outputs": [],
   "source": [
    "for i in cat:\n",
    "    print(\"Column :\",i)\n",
    "    print('count of classes : ',data[i].nunique())\n",
    "    print(c(data[i]))\n",
    "    print('*'*120)"
   ]
  },
  {
   "cell_type": "code",
   "execution_count": null,
   "metadata": {},
   "outputs": [],
   "source": [
    "#here we are combininng the similar types of class into one class using where is for find\n",
    "#and isin is for used for checking purpose\n",
    "data[\"Transmission\"] = np.where(data[\"Transmission\"].\n",
    "                            isin([\"A4\", \"A5\", \"A3\"]), \"Automatic\", data[\"Transmission\"])\n",
    "data[\"Transmission\"] = np.where(data[\"Transmission\"].isin([\"M5\", \"M6\"]), \"Manual\", data[\"Transmission\"])\n",
    "data[\"Transmission\"] = np.where(data[\"Transmission\"].\n",
    "                        isin([\"AS4\", \"AS5\"]), \"Automatic with Select Shift\", data[\"Transmission\"])\n",
    "data[\"Transmission\"] = np.where(data[\"Transmission\"].\n",
    "                isin([\"AV\"]), \"Continuously Variable\", data[\"Transmission\"])\n",
    "c(data['Transmission'])"
   ]
  },
  {
   "cell_type": "code",
   "execution_count": null,
   "metadata": {},
   "outputs": [],
   "source": [
    "data[\"Fuel_Type\"] = np.where(data[\"Fuel_Type\"]==\"Z\", \"Premium Gasoline\", data[\"Fuel_Type\"])\n",
    "data[\"Fuel_Type\"] = np.where(data[\"Fuel_Type\"]==\"X\", \"Regular Gasoline\", data[\"Fuel_Type\"])\n",
    "data[\"Fuel_Type\"] = np.where(data[\"Fuel_Type\"]==\"D\", \"Diesel\", data[\"Fuel_Type\"])\n",
    "data[\"Fuel_Type\"] = np.where(data[\"Fuel_Type\"]==\"E\", \"Ethanol(E85)\", data[\"Fuel_Type\"])\n",
    "data[\"Fuel_Type\"] = np.where(data[\"Fuel_Type\"]==\"N\", \"Natural Gas\", data[\"Fuel_Type\"])\n",
    "c(data[\"Fuel_Type\"])"
   ]
  },
  {
   "cell_type": "markdown",
   "metadata": {},
   "source": [
    "## Numerical Columns"
   ]
  },
  {
   "cell_type": "code",
   "execution_count": null,
   "metadata": {},
   "outputs": [],
   "source": [
    "data.dtypes[data.dtypes!='O'].index.values"
   ]
  },
  {
   "cell_type": "markdown",
   "metadata": {},
   "source": [
    "## Checking Null values"
   ]
  },
  {
   "cell_type": "code",
   "execution_count": null,
   "metadata": {},
   "outputs": [],
   "source": [
    "data.isnull().any()#it will return true if any columns is having null values"
   ]
  },
  {
   "cell_type": "code",
   "execution_count": null,
   "metadata": {},
   "outputs": [],
   "source": [
    "data.isnull().sum() #used for finding the null values"
   ]
  },
  {
   "cell_type": "code",
   "execution_count": null,
   "metadata": {},
   "outputs": [],
   "source": [
    "sns.heatmap(data.isnull(),cbar=False)"
   ]
  },
  {
   "cell_type": "code",
   "execution_count": null,
   "metadata": {},
   "outputs": [],
   "source": [
    "msno.bar(data)\n",
    "plt.show()"
   ]
  },
  {
   "cell_type": "markdown",
   "metadata": {},
   "source": [
    "## Labeling the Categorical Columns"
   ]
  },
  {
   "cell_type": "code",
   "execution_count": null,
   "metadata": {},
   "outputs": [],
   "source": [
    "data1=data.copy()\n",
    "from sklearn.preprocessing import LabelEncoder #imorting the LabelEncoding from sklearn\n",
    "x='*'\n",
    "for i in cat:#looping through all the categorical columns\n",
    "    print(\"LABEL ENCODING OF:\",i)\n",
    "    LE = LabelEncoder()#creating an object of LabelEncoder\n",
    "    print(c(data[i])) #getting the classes values before transformation\n",
    "    data[i] = LE.fit_transform(data[i]) # trannsforming our text classes to numerical values\n",
    "    print(c(data[i])) #getting the classes values after transformation\n",
    "    print(x*100)"
   ]
  },
  {
   "cell_type": "markdown",
   "metadata": {},
   "source": [
    "## Data Visualization"
   ]
  },
  {
   "cell_type": "code",
   "execution_count": null,
   "metadata": {},
   "outputs": [],
   "source": [
    "from tabulate import tabulate  # used for make data in a tabulated form\n",
    "print(tabulate(pd.DataFrame(data1.Make.value_counts())))"
   ]
  },
  {
   "cell_type": "markdown",
   "metadata": {},
   "source": [
    "## Feature:Make"
   ]
  },
  {
   "cell_type": "code",
   "execution_count": null,
   "metadata": {},
   "outputs": [],
   "source": [
    "plt.figure(figsize=(19,5)); # give the figure size as width=19 and height = 5\n",
    "#grouping Make with its count to find the top class \n",
    "data1.groupby(\"Make\")[\"Make\"].count().sort_values(ascending=False).plot(kind=\"bar\")\n"
   ]
  },
  {
   "cell_type": "markdown",
   "metadata": {},
   "source": [
    "## Feature:MODEL.1"
   ]
  },
  {
   "cell_type": "code",
   "execution_count": null,
   "metadata": {},
   "outputs": [],
   "source": [
    "data1.groupby(\"MODEL.1\")[\"MODEL.1\"].count().sort_values(ascending=False)[:20].plot(kind=\"bar\")"
   ]
  },
  {
   "cell_type": "markdown",
   "metadata": {},
   "source": [
    "## Feature:Vehicle_Class"
   ]
  },
  {
   "cell_type": "code",
   "execution_count": null,
   "metadata": {},
   "outputs": [],
   "source": [
    "data1.groupby('Vehicle_Class')['Vehicle_Class'].count().sort_values(ascending=False).plot(kind=\"bar\")"
   ]
  },
  {
   "cell_type": "markdown",
   "metadata": {},
   "source": [
    "## Feature:Transmission"
   ]
  },
  {
   "cell_type": "code",
   "execution_count": null,
   "metadata": {},
   "outputs": [],
   "source": [
    "data1.groupby('Transmission')['Transmission'].count().sort_values(ascending=False).plot(kind='bar')"
   ]
  },
  {
   "cell_type": "markdown",
   "metadata": {},
   "source": [
    "## Feature:Fule_Type"
   ]
  },
  {
   "cell_type": "code",
   "execution_count": null,
   "metadata": {},
   "outputs": [],
   "source": [
    "data1.groupby('Fuel_Type')[\"Fuel_Type\"].count().sort_values(ascending=False).plot(kind='bar')"
   ]
  },
  {
   "cell_type": "markdown",
   "metadata": {},
   "source": [
    "## Make vc CO2_Emissions"
   ]
  },
  {
   "cell_type": "code",
   "execution_count": null,
   "metadata": {},
   "outputs": [],
   "source": [
    "#grouping the Make and CO2_Emissions cloumns and storing top 20 classes.\n",
    "MCO2=data1.groupby(['Make'])['CO2_Emissions'].mean().sort_values()[:20].reset_index()\n",
    "\n",
    "plt.figure(figsize=(25,6))\n",
    "#plotting the barplot between Make and CO2_Emissions column\n",
    "sns.barplot(x = \"Make\",y=\"CO2_Emissions\",data =MCO2 )"
   ]
  },
  {
   "cell_type": "markdown",
   "metadata": {},
   "source": [
    "## Vehicle_CLass vs CO2_Emissions"
   ]
  },
  {
   "cell_type": "code",
   "execution_count": null,
   "metadata": {},
   "outputs": [],
   "source": [
    "VC=data1.groupby('Vehicle_Class')['CO2_Emissions'].mean().\n",
    "                        sort_values(ascending=False)[:10].reset_index()\n",
    "plt.figure(figsize=(20,6))\n",
    "sns.barplot(x='Vehicle_Class',y='CO2_Emissions',data=VC)"
   ]
  },
  {
   "cell_type": "markdown",
   "metadata": {},
   "source": [
    "## Transmission vs CO2_Emissions"
   ]
  },
  {
   "cell_type": "code",
   "execution_count": null,
   "metadata": {},
   "outputs": [],
   "source": [
    "TC=data1.groupby('Transmission')['CO2_Emissions'].mean().\n",
    "                        sort_values(ascending=False)[:10].reset_index()\n",
    "plt.figure(figsize=(20,6))\n",
    "sns.barplot(x='Transmission',y='CO2_Emissions',data=TC)"
   ]
  },
  {
   "cell_type": "markdown",
   "metadata": {},
   "source": [
    "## Fule_Type vs CO2_Emission"
   ]
  },
  {
   "cell_type": "code",
   "execution_count": null,
   "metadata": {},
   "outputs": [],
   "source": [
    "FC=data1.groupby('Fuel_Type')['CO2_Emissions'].mean().sort_values()[:10].reset_index()\n",
    "plt.figure(figsize=(20,6))\n",
    "sns.barplot(x='Fuel_Type',y='CO2_Emissions',data=FC)"
   ]
  },
  {
   "cell_type": "markdown",
   "metadata": {},
   "source": [
    "## Correlation"
   ]
  },
  {
   "cell_type": "code",
   "execution_count": null,
   "metadata": {},
   "outputs": [],
   "source": [
    "corr = data.corr() #perform correlation between all continous features\n",
    "plt.subplots(figsize=(16,16));\n",
    "sns.heatmap(corr, annot=True, square=True) #plotting heatmap of correlations\n",
    "plt.title(\"Correlation matrix of numerical features\")\n",
    "plt.tight_layout()\n",
    "plt.show()"
   ]
  },
  {
   "cell_type": "markdown",
   "metadata": {},
   "source": [
    "## Correlation of independent features with dependent variable"
   ]
  },
  {
   "cell_type": "code",
   "execution_count": null,
   "metadata": {},
   "outputs": [],
   "source": [
    "plt.figure(figsize=(16,5))\n",
    "corr[\"CO2_Emissions\"].sort_values(ascending=True)[:-1].plot(kind=\"barh\")"
   ]
  },
  {
   "cell_type": "markdown",
   "metadata": {},
   "source": [
    "## Creating the Dependent and Independent variable"
   ]
  },
  {
   "cell_type": "code",
   "execution_count": null,
   "metadata": {},
   "outputs": [],
   "source": [
    "x = data.drop(['CO2_Emissions','Fuel_Consumption_Comb(L/100 km)','MODEL.1'],axis=1) #independet features\n",
    "x=pd.DataFrame(x)\n",
    "y = data['CO2_Emissions'] #depenent feature\n",
    "y=pd.DataFrame(y)"
   ]
  },
  {
   "cell_type": "markdown",
   "metadata": {},
   "source": [
    "## Splitting dataset into train and test"
   ]
  },
  {
   "cell_type": "code",
   "execution_count": null,
   "metadata": {},
   "outputs": [],
   "source": [
    "x_train,x_test,y_train,y_test=train_test_split(x,y,test_size=0.2,random_state=2)\n",
    "print(x_train.shape)\n",
    "print(x_test.shape)\n"
   ]
  },
  {
   "cell_type": "markdown",
   "metadata": {},
   "source": [
    "## Building our Model"
   ]
  },
  {
   "cell_type": "code",
   "execution_count": null,
   "metadata": {},
   "outputs": [],
   "source": [
    "lr=LinearRegression() #creating object of LinearRegression model\n",
    "lr=lr.fit(x_train,y_train) # fitting our model"
   ]
  },
  {
   "cell_type": "markdown",
   "metadata": {},
   "source": [
    "## Predecting the results"
   ]
  },
  {
   "cell_type": "code",
   "execution_count": null,
   "metadata": {},
   "outputs": [],
   "source": [
    "y_pred=lr.predict(x_test)\n",
    "y_pred"
   ]
  },
  {
   "cell_type": "markdown",
   "metadata": {},
   "source": [
    "## Checking the score of our model"
   ]
  },
  {
   "cell_type": "code",
   "execution_count": null,
   "metadata": {},
   "outputs": [],
   "source": [
    "score = lr.score(x_test,y_test)\n",
    "score"
   ]
  },
  {
   "cell_type": "code",
   "execution_count": null,
   "metadata": {},
   "outputs": [],
   "source": [
    "from sklearn import metrics #importing the metrics library\n",
    "print(\"MAE:\",metrics.mean_absolute_error(y_test,y_pred)) #Mean Absolute Error\n",
    "print(\"MSE:\",metrics.mean_squared_error(y_test,y_pred)) # Mean Square Error\n",
    "print(\"RMSE:\",np.sqrt(metrics.mean_squared_error(y_test,y_pred))) # Root Mean Square Error"
   ]
  },
  {
   "cell_type": "markdown",
   "metadata": {},
   "source": [
    "## Dumping our model"
   ]
  },
  {
   "cell_type": "code",
   "execution_count": null,
   "metadata": {},
   "outputs": [],
   "source": [
    "pickle.dump(lr,open(\"CO2.pkl\",'wb'))"
   ]
  }
 ],
 "metadata": {
  "kernelspec": {
   "display_name": "Python 3",
   "language": "python",
   "name": "python3"
  },
  "language_info": {
   "codemirror_mode": {
    "name": "ipython",
    "version": 3
   },
   "file_extension": ".py",
   "mimetype": "text/x-python",
   "name": "python",
   "nbconvert_exporter": "python",
   "pygments_lexer": "ipython3",
   "version": "3.8.3"
  }
 },
 "nbformat": 4,
 "nbformat_minor": 4
}
